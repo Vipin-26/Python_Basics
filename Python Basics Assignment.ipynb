{
 "cells": [
  {
   "cell_type": "markdown",
   "id": "ca46766b",
   "metadata": {},
   "source": [
    "# Python Basics"
   ]
  },
  {
   "cell_type": "markdown",
   "id": "af40d4eb",
   "metadata": {},
   "source": [
    "## Theoretical Questions"
   ]
  },
  {
   "cell_type": "markdown",
   "id": "f8b3734d",
   "metadata": {},
   "source": [
    "### Q1. What is Python, and why is it popular?\n",
    "- Python is a programming language that is easy to use and understand. It is very popular due to its versatility in applications, large range of libraries and good community contributions.\n",
    "\n",
    "### Q2. What is an interpreter in Python?\n",
    "- An interpreter in Python is a program that executes code line by line, converting it into bytecode. This allows for easier debugging.\n",
    "\n",
    "### Q3. What are pre-defined keywords in Python?\n",
    "- Pre-defined keywords are reserved words that have special meaning in the programming language and are used to define some syntax and structure. Some examples are 'if', 'else', 'while' etc.\n",
    "\n",
    "### Q4. Can keywords be used as variable names?\n",
    "- Keywords cannot be used as variable names, and doing so will result in a syntax error.\n",
    "\n",
    "### Q5. What is mutability in Python?\n",
    "- Mutability refers to whether an object’s value can be altered after it is created. \n",
    "\n",
    "- If the value can be modified, the object is considered mutable otherwise it is classified as immutable.\n",
    "\n",
    "### Q6. Why are lists mutable, but tuples are immutable?\n",
    "- Lists are mutable because they are designed to allow changes like adding, removing, or updating elements after creation, but tuples are immutable by design in order to provide faster performance and safety, especially when passing data that shouldn't be altered.\n",
    "\n",
    "### Q7. What is the difference between “==” and “is” operators in Python?\n",
    "- '==' checks if the values of two objects are equal. Whereas 'is' checks if two objects refer to the same memory location.\n",
    "\n",
    "### Q8. What are logical operators in Python?\n",
    "- Logical operators are used to perform logical operations like, 'and', 'or', 'not', on some conditions and return boolean values. For example, 'and' returns 'True' as output if the two input conditions are true.\n",
    "\n",
    "### Q9. What is type casting in Python?\n",
    "- Type casting is the process of converting one data type into another. It can be done explicitly using built-in functions.\n",
    "\n",
    "### Q10. What is the difference between implicit and explicit type casting?\n",
    "- Implicit type casting is done automatically be python during variable definition. Alternatively, explicit type casting is done using built-in function like, 'int()', etc after a variable is defined.\n",
    "\n",
    "### Q11. What is the purpose of conditional statements in Python?\n",
    "- Conditional statements allows the program to make decisions and execute certain blocks of code based on specific conditions. They help control the flow of the program.\n",
    "\n",
    "### Q12. How does the elif statement work?\n",
    "- The 'elif' statement stands for \"else if\" and is used to check multiple conditions after an initial 'if'. It only runs if the 'if' condition is false and its own condition is true.\n",
    "\n",
    "### Q13. What is the difference between for and while loops?\n",
    "- 'For loop' is used when it is known in advanced how many times a loop needs to be exicuted. 'While loop' is used when the number of iterations isn't known, it runs as long as a condition is true.\n",
    "\n",
    "### Q14. Describe a scenario where a while loop is more suitable than a for loop.\n",
    "- Example: A program needs to ask the user to enter a password, and it should keep asking until a correct password, matching the requirements, is entered. Here, a 'while loop' is ideal as it is not know how many attempts the user will need, the looping needs to be based on a condition, not a fixed number of steps."
   ]
  },
  {
   "cell_type": "markdown",
   "id": "c7d61ebf",
   "metadata": {},
   "source": [
    "## Practical Questions"
   ]
  },
  {
   "cell_type": "markdown",
   "id": "f0a36cad",
   "metadata": {},
   "source": [
    "### Q1. Write a Python program to print \"Hello, World!\""
   ]
  },
  {
   "cell_type": "code",
   "execution_count": 144,
   "id": "65c11b9a",
   "metadata": {},
   "outputs": [
    {
     "name": "stdout",
     "output_type": "stream",
     "text": [
      "Hello, World!\n"
     ]
    }
   ],
   "source": [
    "print('Hello, World!')"
   ]
  },
  {
   "cell_type": "markdown",
   "id": "87a51ef4",
   "metadata": {},
   "source": [
    "### Q2. Write a Python program that displays your name and age."
   ]
  },
  {
   "cell_type": "code",
   "execution_count": 145,
   "id": "c5eb2bfc",
   "metadata": {},
   "outputs": [
    {
     "name": "stdout",
     "output_type": "stream",
     "text": [
      "Enter your name = Vipin\n",
      "Enter your age = qwe\n",
      "Re-enter age in correct format = q\n",
      "Re-enter age in correct format = 24\n"
     ]
    }
   ],
   "source": [
    "nam = input('Enter your name = ')\n",
    "age = input('Enter your age = ')\n",
    "\n",
    "while not age.isdigit():\n",
    "    age = input('Re-enter age in correct format = ')"
   ]
  },
  {
   "cell_type": "code",
   "execution_count": 146,
   "id": "a974f5cd",
   "metadata": {},
   "outputs": [
    {
     "name": "stdout",
     "output_type": "stream",
     "text": [
      " Your name is Vipin and you are 24 years old\n"
     ]
    }
   ],
   "source": [
    "print(f' Your name is {nam} and you are {age} years old')"
   ]
  },
  {
   "cell_type": "markdown",
   "id": "62875916",
   "metadata": {},
   "source": [
    "### Q3. Write code to print all the pre-defined keywords in Python using the keyword library."
   ]
  },
  {
   "cell_type": "code",
   "execution_count": 147,
   "id": "a13a52c4",
   "metadata": {},
   "outputs": [
    {
     "name": "stdout",
     "output_type": "stream",
     "text": [
      "\n",
      "Here is a list of the Python keywords.  Enter any keyword to get more help.\n",
      "\n",
      "False               break               for                 not\n",
      "None                class               from                or\n",
      "True                continue            global              pass\n",
      "__peg_parser__      def                 if                  raise\n",
      "and                 del                 import              return\n",
      "as                  elif                in                  try\n",
      "assert              else                is                  while\n",
      "async               except              lambda              with\n",
      "await               finally             nonlocal            yield\n",
      "\n"
     ]
    }
   ],
   "source": [
    "help('keywords')"
   ]
  },
  {
   "cell_type": "code",
   "execution_count": 148,
   "id": "86b5e9e9",
   "metadata": {},
   "outputs": [
    {
     "name": "stdout",
     "output_type": "stream",
     "text": [
      "Python Keywords are:\n",
      "\n",
      "False\n",
      "None\n",
      "True\n",
      "__peg_parser__\n",
      "and\n",
      "as\n",
      "assert\n",
      "async\n",
      "await\n",
      "break\n",
      "class\n",
      "continue\n",
      "def\n",
      "del\n",
      "elif\n",
      "else\n",
      "except\n",
      "finally\n",
      "for\n",
      "from\n",
      "global\n",
      "if\n",
      "import\n",
      "in\n",
      "is\n",
      "lambda\n",
      "nonlocal\n",
      "not\n",
      "or\n",
      "pass\n",
      "raise\n",
      "return\n",
      "try\n",
      "while\n",
      "with\n",
      "yield\n"
     ]
    }
   ],
   "source": [
    "import keyword\n",
    "\n",
    "print('Python Keywords are:\\n')\n",
    "\n",
    "for i in keyword.kwlist:\n",
    "    print(i)"
   ]
  },
  {
   "cell_type": "markdown",
   "id": "cca3109f",
   "metadata": {},
   "source": [
    "### Q4. Write a program that checks if a given word is a Python keyword."
   ]
  },
  {
   "cell_type": "code",
   "execution_count": 149,
   "id": "0f83df91",
   "metadata": {},
   "outputs": [
    {
     "name": "stdout",
     "output_type": "stream",
     "text": [
      "Enter a word = for\n",
      "for is a Keyword\n"
     ]
    }
   ],
   "source": [
    "import keyword\n",
    "\n",
    "key = input('Enter a word = ')\n",
    "\n",
    "count = 0\n",
    "\n",
    "for i in keyword.kwlist:\n",
    "    if key == i:\n",
    "        count += 1\n",
    "\n",
    "if count>0:\n",
    "    print(f'{key} is a Keyword')\n",
    "    \n",
    "else:\n",
    "    print(f'{key} is not a Keyword')"
   ]
  },
  {
   "cell_type": "code",
   "execution_count": 150,
   "id": "968ee95c",
   "metadata": {},
   "outputs": [
    {
     "name": "stdout",
     "output_type": "stream",
     "text": [
      "Enter a word = if\n",
      "if is a Keyword\n"
     ]
    }
   ],
   "source": [
    "import keyword\n",
    "\n",
    "key = input('Enter a word = ')\n",
    "\n",
    "if keyword.iskeyword(key):\n",
    "    print(f'{key} is a Keyword')\n",
    "else:\n",
    "    print(f'{key} is not a Keyword')"
   ]
  },
  {
   "cell_type": "markdown",
   "id": "7c14f854",
   "metadata": {},
   "source": [
    "### Q5.  Create a list and tuple in Python, and demonstrate how attempting to change an element works differently for each."
   ]
  },
  {
   "cell_type": "code",
   "execution_count": 151,
   "id": "435ad8fa",
   "metadata": {},
   "outputs": [
    {
     "name": "stdout",
     "output_type": "stream",
     "text": [
      "Enter the order of list and tuple = 5\n",
      "Enter a value = 1\n",
      "Enter a value = 2\n",
      "Enter a value = s\n",
      "Enter a value = \n",
      "Enter a value = e\n"
     ]
    }
   ],
   "source": [
    "list_example = []\n",
    "n = int(input('Enter the order of list and tuple = '))\n",
    "\n",
    "for i in range(n):\n",
    "    \n",
    "    a = input('Enter a value = ')\n",
    "    if a.isdigit():\n",
    "        list_example.append(float(a))\n",
    "    else:\n",
    "        list_example.append(a)\n",
    "    \n",
    "    \n",
    "tuple_example = tuple(list_example)"
   ]
  },
  {
   "cell_type": "code",
   "execution_count": 152,
   "id": "b12246c4",
   "metadata": {},
   "outputs": [
    {
     "name": "stdout",
     "output_type": "stream",
     "text": [
      "The modified list is\n",
      "[10, 2.0, 's', '', 'e']\n"
     ]
    }
   ],
   "source": [
    "list_example[0] = 10\n",
    "\n",
    "print('The modified list is')\n",
    "print(list_example)"
   ]
  },
  {
   "cell_type": "code",
   "execution_count": 153,
   "id": "2e89e7be",
   "metadata": {},
   "outputs": [
    {
     "ename": "TypeError",
     "evalue": "'tuple' object does not support item assignment",
     "output_type": "error",
     "traceback": [
      "\u001b[1;31m---------------------------------------------------------------------------\u001b[0m",
      "\u001b[1;31mTypeError\u001b[0m                                 Traceback (most recent call last)",
      "\u001b[1;32m~\\AppData\\Local\\Temp\\ipykernel_56588\\3469314549.py\u001b[0m in \u001b[0;36m<module>\u001b[1;34m\u001b[0m\n\u001b[1;32m----> 1\u001b[1;33m \u001b[0mtuple_example\u001b[0m\u001b[1;33m[\u001b[0m\u001b[1;36m0\u001b[0m\u001b[1;33m]\u001b[0m \u001b[1;33m=\u001b[0m \u001b[1;36m10\u001b[0m \u001b[1;31m# This will throw an error\u001b[0m\u001b[1;33m\u001b[0m\u001b[1;33m\u001b[0m\u001b[0m\n\u001b[0m\u001b[0;32m      2\u001b[0m \u001b[1;33m\u001b[0m\u001b[0m\n\u001b[0;32m      3\u001b[0m \u001b[0mprint\u001b[0m\u001b[1;33m(\u001b[0m\u001b[1;34m'The modified tuple is'\u001b[0m\u001b[1;33m)\u001b[0m \u001b[1;31m# No further code lines will execute\u001b[0m\u001b[1;33m\u001b[0m\u001b[1;33m\u001b[0m\u001b[0m\n\u001b[0;32m      4\u001b[0m \u001b[0mprint\u001b[0m\u001b[1;33m(\u001b[0m\u001b[0mlist_example\u001b[0m\u001b[1;33m)\u001b[0m\u001b[1;33m\u001b[0m\u001b[1;33m\u001b[0m\u001b[0m\n",
      "\u001b[1;31mTypeError\u001b[0m: 'tuple' object does not support item assignment"
     ]
    }
   ],
   "source": [
    "tuple_example[0] = 10 # This will throw an error\n",
    "\n",
    "print('The modified tuple is') # No further code lines will execute\n",
    "print(list_example)"
   ]
  },
  {
   "cell_type": "markdown",
   "id": "5e67e277",
   "metadata": {},
   "source": [
    "### Q6. Write a function to demonstrate the behavior of mutable and immutable arguments."
   ]
  },
  {
   "cell_type": "code",
   "execution_count": 154,
   "id": "056918ac",
   "metadata": {},
   "outputs": [
    {
     "name": "stdout",
     "output_type": "stream",
     "text": [
      "Inside function:\n",
      "a =  Hi, how are you?\n",
      "b =  [1, 2, 3, 4]\n",
      "\n",
      "Outside function:\n",
      "x =  Hi\n",
      "y =  [1, 2, 3, 4]\n"
     ]
    }
   ],
   "source": [
    "def modify_values(a, b):\n",
    "    a += ', how are you?'\n",
    "    b.append(4)\n",
    "    print('Inside function:')\n",
    "    print('a = ', a)\n",
    "    print('b = ', b)\n",
    "\n",
    "# Immutable argument (string)\n",
    "x = 'Hi'\n",
    "\n",
    "# Mutable argument (list)\n",
    "y = [1, 2, 3]\n",
    "\n",
    "modify_values(x, y)\n",
    "\n",
    "print('\\nOutside function:')\n",
    "print('x = ', x)\n",
    "print('y = ', y)\n"
   ]
  },
  {
   "cell_type": "markdown",
   "id": "d6434ea1",
   "metadata": {},
   "source": [
    "### Q7. Write a program that performs basic arithmetic operations on two user-input numbers."
   ]
  },
  {
   "cell_type": "code",
   "execution_count": 155,
   "id": "7390dd91",
   "metadata": {},
   "outputs": [
    {
     "name": "stdout",
     "output_type": "stream",
     "text": [
      "Enter a number (upto 2 decimal places) =  63.2\n",
      "Enter another number (upto 2 decimal places) =  3.21\n",
      "The arithmetic operations are:\n",
      "Addition: 63.2 + 3.21 = 66.41\n",
      "Subtraction: 63.2 - 3.21 = 59.99\n",
      "Multiplication: 63.2 * 3.21 = 202.87\n",
      "Division: 63.2 / 3.21 = 19.69\n"
     ]
    }
   ],
   "source": [
    "a = float(input('Enter a number (upto 2 decimal places) =  '))\n",
    "b = float(input('Enter another number (upto 2 decimal places) =  '))\n",
    "\n",
    "\n",
    "print('The arithmetic operations are:')\n",
    "print(f'Addition: {a} + {b} = {round(a + b,2)}')\n",
    "print(f'Subtraction: {a} - {b} = {round(a - b,2)}')\n",
    "print(f'Multiplication: {a} * {b} = {round(a * b,2)}')\n",
    "\n",
    "\n",
    "if b != 0:\n",
    "    print(f'Division: {a} / {b} = {round(a / b,2)}')\n",
    "else:\n",
    "    print('Division by 0 not possible')\n"
   ]
  },
  {
   "cell_type": "code",
   "execution_count": 156,
   "id": "4bb1427a",
   "metadata": {},
   "outputs": [
    {
     "name": "stdout",
     "output_type": "stream",
     "text": [
      "Enter a number (upto 2 decimal places) = 3.6\n",
      "Enter another number (upto 2 decimal places) = 0.0\n"
     ]
    }
   ],
   "source": [
    "a = float(input('Enter a number (upto 2 decimal places) = '))\n",
    "b = float(input('Enter another number (upto 2 decimal places) = '))"
   ]
  },
  {
   "cell_type": "code",
   "execution_count": 157,
   "id": "987ee72f",
   "metadata": {},
   "outputs": [
    {
     "name": "stdout",
     "output_type": "stream",
     "text": [
      "What operation do you want to perform? \n",
      "Addition, Subtraction, Multiplication or Division = div\n",
      "Please re-enter operation correctly = Division\n",
      "Division by 0 not possible\n"
     ]
    }
   ],
   "source": [
    "op = input('What operation do you want to perform? \\nAddition, Subtraction, Multiplication or Division = ')\n",
    "\n",
    "while(op != 'Addition' and op != 'Subtraction' and op != 'Multiplication' and op != 'Division'):\n",
    "    op = input('Please re-enter operation correctly = ')\n",
    "\n",
    "if op == 'Addition':\n",
    "    print(f'The sum is {round(a + b,2)}')\n",
    "\n",
    "elif op == 'Subtraction':\n",
    "    print(f'The difference is {round(a - b,2)}')\n",
    "\n",
    "elif op == 'Multiplication':\n",
    "    print(f'The multiplication is {round(a * b,2)}')\n",
    "\n",
    "else:\n",
    "    if b == 0:\n",
    "        print('Division by 0 not possible')\n",
    "    else:\n",
    "        print(f'The division is {round(a / b,2)}')"
   ]
  },
  {
   "cell_type": "markdown",
   "id": "273d3afe",
   "metadata": {},
   "source": [
    "### Q8. Write a program to demonstrate the use of logical operators."
   ]
  },
  {
   "cell_type": "code",
   "execution_count": 158,
   "id": "cdb9bd73",
   "metadata": {},
   "outputs": [
    {
     "name": "stdout",
     "output_type": "stream",
     "text": [
      "Do you have any experience? (yes/no) = yes\n",
      "Enter your current post = associate data scientist\n",
      "Enter your experience = 1\n",
      "\n",
      "You are not eligible for the post, either you have less experience or not the desired post\n"
     ]
    }
   ],
   "source": [
    "# A program to check eligibility of candidates for a promotion to a post of Data Scientist\n",
    "\n",
    "q = input('Do you have any experience? (yes/no) = ').lower() == 'yes'\n",
    "\n",
    "if not q:\n",
    "    \n",
    "    print('\\nYou cannot apply for this post')\n",
    "    \n",
    "else:\n",
    "    \n",
    "    post = input('Enter your current post = ').lower()\n",
    "    exp = float(input('Enter your experience = '))\n",
    "    \n",
    "    if post == 'associate data scientist' and exp>=2:\n",
    "        print('\\nYou are eligible for the post')\n",
    "    \n",
    "    elif post != 'associate data scientist' or exp<2:\n",
    "        print('\\nYou are not eligible for the post, either you have less experience or not the desired post')"
   ]
  },
  {
   "cell_type": "markdown",
   "id": "205d1772",
   "metadata": {},
   "source": [
    "### Q9. Write a Python program to convert user input from string to integer, float, and boolean types."
   ]
  },
  {
   "cell_type": "code",
   "execution_count": 162,
   "id": "0bfba5c9",
   "metadata": {},
   "outputs": [
    {
     "name": "stdout",
     "output_type": "stream",
     "text": [
      "Put an input = 12.3\n",
      "Boolan value is = True\n"
     ]
    }
   ],
   "source": [
    "inp = input('Put an input = ')\n",
    "print(f'Boolan value is = {bool(inp)}')"
   ]
  },
  {
   "cell_type": "code",
   "execution_count": 163,
   "id": "0d685a6c",
   "metadata": {},
   "outputs": [
    {
     "name": "stdout",
     "output_type": "stream",
     "text": [
      "\n",
      "Integer value is = 12\n"
     ]
    }
   ],
   "source": [
    "print(f'\\nInteger value is = {int(float(inp))}')"
   ]
  },
  {
   "cell_type": "code",
   "execution_count": 164,
   "id": "0654f428",
   "metadata": {},
   "outputs": [
    {
     "name": "stdout",
     "output_type": "stream",
     "text": [
      "Float value is = 12.3\n"
     ]
    }
   ],
   "source": [
    "print(f'Float value is = {float(inp)}') # Only works for numeric value, otherwise throws error"
   ]
  },
  {
   "cell_type": "markdown",
   "id": "edf7ee71",
   "metadata": {},
   "source": [
    "### Q10. Write code to demonstrate type casting with list elements."
   ]
  },
  {
   "cell_type": "code",
   "execution_count": 177,
   "id": "5353f83f",
   "metadata": {},
   "outputs": [
    {
     "name": "stdout",
     "output_type": "stream",
     "text": [
      "Enter the order of list = 5\n",
      "Enter a value = 1\n",
      "Enter a value = 2\n",
      "Enter a value = w\n",
      "Enter a value = e2\n",
      "Enter a value = 5\n",
      "The original list is = ['1', '2', 'w', 'e2', '5']\n",
      "The integer list is = [1, 2, 'NA', 'NA', 5]\n"
     ]
    }
   ],
   "source": [
    "n = input('Enter the order of list = ')\n",
    "str_list = []\n",
    "\n",
    "for i in range(int(n)):\n",
    "    a = input('Enter a value = ')\n",
    "    str_list.append(a)\n",
    "\n",
    "int_list = []\n",
    "\n",
    "for i in str_list:\n",
    "    if i.isdigit():\n",
    "        int_list.append(int(i))\n",
    "    else:\n",
    "        int_list.append('NA') # Not applicable\n",
    "\n",
    "print(f'The original list is = {str_list}')\n",
    "print(f'The integer list is = {int_list}')"
   ]
  },
  {
   "cell_type": "markdown",
   "id": "3fb7e7a7",
   "metadata": {},
   "source": [
    "### Q11. Write a program that checks if a number is positive, negative, or zero."
   ]
  },
  {
   "cell_type": "code",
   "execution_count": 179,
   "id": "7fad0d6d",
   "metadata": {},
   "outputs": [
    {
     "name": "stdout",
     "output_type": "stream",
     "text": [
      "Enter a number-3.6\n",
      "The input number, -3.6 is negative\n"
     ]
    }
   ],
   "source": [
    "inp = float(input('Enter a number'))\n",
    "\n",
    "if inp>0:\n",
    "    print(f'The input number, {inp} is positive')\n",
    "\n",
    "elif inp<0:\n",
    "    print(f'The input number, {inp} is negative')\n",
    "\n",
    "else:\n",
    "    print('The input number is zero')"
   ]
  },
  {
   "cell_type": "markdown",
   "id": "470ce012",
   "metadata": {},
   "source": [
    "### Q12. Write a for loop to print numbers from 1 to 10."
   ]
  },
  {
   "cell_type": "code",
   "execution_count": 180,
   "id": "f90388e5",
   "metadata": {},
   "outputs": [
    {
     "name": "stdout",
     "output_type": "stream",
     "text": [
      "1\n",
      "2\n",
      "3\n",
      "4\n",
      "5\n",
      "6\n",
      "7\n",
      "8\n",
      "9\n",
      "10\n"
     ]
    }
   ],
   "source": [
    "for i in range(0,10):\n",
    "    print(i+1)"
   ]
  },
  {
   "cell_type": "markdown",
   "id": "98ef5bd3",
   "metadata": {},
   "source": [
    "### Q13. Write a Python program to find the sum of all even numbers between 1 and 50."
   ]
  },
  {
   "cell_type": "code",
   "execution_count": 181,
   "id": "637db8d0",
   "metadata": {},
   "outputs": [
    {
     "name": "stdout",
     "output_type": "stream",
     "text": [
      "Sum of all even numbers between 1 to 50 is = 650\n"
     ]
    }
   ],
   "source": [
    "su = 0\n",
    "\n",
    "for i in range(1,51):    # Loop runs from 1 to 50\n",
    "    \n",
    "    if i%2 == 0:\n",
    "        su += i\n",
    "\n",
    "print(f'Sum of all even numbers between 1 to 50 is = {su}')"
   ]
  },
  {
   "cell_type": "markdown",
   "id": "a0ad21b9",
   "metadata": {},
   "source": [
    "### Q14. Write a program to reverse a string using a while loop."
   ]
  },
  {
   "cell_type": "code",
   "execution_count": 182,
   "id": "d29fec07",
   "metadata": {},
   "outputs": [
    {
     "name": "stdout",
     "output_type": "stream",
     "text": [
      "Enter the string = a b c d e f\n",
      "The reversed string is = f e d c b a\n"
     ]
    }
   ],
   "source": [
    "s = input('Enter the string = ')\n",
    "\n",
    "n = len(s) - 1\n",
    "\n",
    "new_s = ''\n",
    "\n",
    "while n>=0:\n",
    "    \n",
    "    new_s += s[n]\n",
    "    n -= 1\n",
    "\n",
    "print(f'The reversed string is = {new_s}')"
   ]
  },
  {
   "cell_type": "markdown",
   "id": "e7ab8ece",
   "metadata": {},
   "source": [
    "### Q15. Write a Python program to calculate the factorial of a number provided by the user using a while loop."
   ]
  },
  {
   "cell_type": "code",
   "execution_count": 183,
   "id": "ba8ebf83",
   "metadata": {},
   "outputs": [
    {
     "name": "stdout",
     "output_type": "stream",
     "text": [
      "Enter a number = 5\n",
      "The factorial of the provided number is = 120\n"
     ]
    }
   ],
   "source": [
    "num = int(input('Enter a number = '))\n",
    "\n",
    "prod = 1\n",
    "\n",
    "for i in range(1, num+1):\n",
    "    \n",
    "    prod *= i\n",
    "\n",
    "print(f'The factorial of the provided number is = {prod}')"
   ]
  }
 ],
 "metadata": {
  "kernelspec": {
   "display_name": "Python 3 (ipykernel)",
   "language": "python",
   "name": "python3"
  },
  "language_info": {
   "codemirror_mode": {
    "name": "ipython",
    "version": 3
   },
   "file_extension": ".py",
   "mimetype": "text/x-python",
   "name": "python",
   "nbconvert_exporter": "python",
   "pygments_lexer": "ipython3",
   "version": "3.9.13"
  }
 },
 "nbformat": 4,
 "nbformat_minor": 5
}
